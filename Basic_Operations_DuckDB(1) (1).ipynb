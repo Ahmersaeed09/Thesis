# Performance Analysis Summary
print("\n" + "="*50)
print("PERFORMANCE SUMMARY OF BASIC OPERATIONS")
print("="*50)

# Store results for comparison
operations_performance = []

# Re-run all operations with timing for comparison
print("\n1. Element-wise Addition Performance:")
start = time.time()
result_add = con.execute("""
    SELECT list_apply(list_zip(A, B), x -> x[1] + x[2]) AS result
    FROM matrix_table
""").fetchall()
add_time = time.time() - start
operations_performance.append(("Element-wise Addition", add_time))
print(f"   DuckDB: {add_time:.6f} seconds")

print("\n2. Element-wise Multiplication Performance:")
start = time.time()
result_mult = con.execute("""
    SELECT list_apply(list_zip(A, B), x -> x[1] * x[2]) AS result
    FROM matrix_table
""").fetchall()
mult_time = time.time() - start
operations_performance.append(("Element-wise Multiplication", mult_time))
print(f"   DuckDB: {mult_time:.6f} seconds")

print("\n3. Dot Product Performance:")
start = time.time()
result_dot = con.execute("""
    SELECT list_sum(list_apply(list_zip(A, B), x -> x[1] * x[2])) AS dot_product
    FROM matrix_table
""").fetchall()
dot_time = time.time() - start
operations_performance.append(("Dot Product", dot_time))
print(f"   DuckDB: {dot_time:.6f} seconds")# Performance Analysis Summary
print("\n" + "="*50)
print("PERFORMANCE SUMMARY OF BASIC OPERATIONS")
print("="*50)

# Store results for comparison
operations_performance = []

# Re-run all operations with timing for comparison
print("\n1. Element-wise Addition Performance:")
start = time.time()
result_add = con.execute("""
    SELECT list_apply(list_zip(A, B), x -> x[1] + x[2]) AS result
    FROM matrix_table
""").fetchall()
add_time = time.time() - start
operations_performance.append(("Element-wise Addition", add_time))
print(f"   DuckDB: {add_time:.6f} seconds")

print("\n2. Element-wise Multiplication Performance:")
start = time.time()
result_mult = con.execute("""
    SELECT list_apply(list_zip(A, B), x -> x[1] * x[2]) AS result
    FROM matrix_table
""").fetchall()
mult_time = time.time() - start
operations_performance.append(("Element-wise Multiplication", mult_time))
print(f"   DuckDB: {mult_time:.6f} seconds")

print("\n3. Dot Product Performance:")
start = time.time()
result_dot = con.execute("""
    SELECT list_sum(list_apply(list_zip(A, B), x -> x[1] * x[2])) AS dot_product
    FROM matrix_table
""").fetchall()
dot_time = time.time() - start
operations_performance.append(("Dot Product", dot_time))
print(f"   DuckDB: {dot_time:.6f} seconds"){
  "cells": [
    {
      "cell_type": "code",
      "execution_count": null,
      "metadata": {
        "colab": {
          "base_uri": "https://localhost:8080/"
        },
        "id": "bd6c893b",
        "outputId": "51c63a33-437b-49bd-b2cf-7f5fca392c90"
      },
      "outputs": [
        {
          "output_type": "stream",
          "name": "stdout",
          "text": [
            "Sample data:\n",
            "                                          A  \\\n",
            "0    [46, 71, 77, 77, 6, 53, 98, 48, 3, 43]   \n",
            "1  [80, 94, 68, 70, 34, 23, 90, 75, 98, 22]   \n",
            "2    [91, 64, 47, 5, 29, 40, 9, 96, 23, 93]   \n",
            "3  [71, 10, 29, 18, 72, 43, 68, 36, 82, 65]   \n",
            "4   [68, 52, 94, 93, 23, 71, 0, 92, 16, 70]   \n",
            "\n",
            "                                          B  \n",
            "0    [55, 29, 1, 43, 76, 75, 38, 9, 71, 66]  \n",
            "1  [75, 50, 79, 23, 97, 12, 20, 42, 91, 32]  \n",
            "2  [96, 54, 52, 34, 60, 79, 30, 73, 20, 95]  \n",
            "3   [21, 30, 25, 57, 95, 91, 3, 57, 30, 56]  \n",
            "4    [35, 0, 77, 89, 62, 47, 66, 5, 82, 29]  \n"
          ]
        }
      ],
      "source": [
        "import pandas as pd\n",
        "import numpy as np\n",
        "import duckdb\n",
        "import time\n",
        "\n",
        "# Generate test data\n",
        "rows = 10\n",
        "cols = 10\n",
        "df = pd.DataFrame({\n",
        "    'A': [list(np.random.randint(0, 100, size=cols)) for _ in range(rows)],\n",
        "    'B': [list(np.random.randint(0, 100, size=cols)) for _ in range(rows)],\n",
        "})\n",
        "\n",
        "print(\"Sample data:\")\n",
        "print(df.head())"
      ]
    },
    {
      "cell_type": "code",
      "execution_count": null,
      "metadata": {
        "id": "0213afbd"
      },
      "outputs": [],
      "source": [
        "# Connect to DuckDB and create proper table\n",
        "con = duckdb.connect()\n",
        "\n",
        "con.execute(\"DROP TABLE IF EXISTS matrix_table\")\n",
        "con.execute(\"\"\"\n",
        "    CREATE TABLE matrix_table (\n",
        "        A INTEGER[],\n",
        "        B INTEGER[]\n",
        "    )\n",
        "\"\"\")\n",
        "\n",
        "# Insert the data row by row (convert numpy.int64 to int)\n",
        "for _, row in df.iterrows():\n",
        "    a_list = [int(x) for x in row['A']]\n",
        "    b_list = [int(x) for x in row['B']]\n",
        "    con.execute(\"INSERT INTO matrix_table VALUES (?, ?)\", (a_list, b_list))"
      ]
    },
    {
      "cell_type": "code",
      "execution_count": null,
      "metadata": {
        "colab": {
          "base_uri": "https://localhost:8080/"
        },
        "id": "346e060b",
        "outputId": "a68eb930-02ed-4c12-8dd2-6d19fe30c09f"
      },
      "outputs": [
        {
          "output_type": "stream",
          "name": "stdout",
          "text": [
            "Element-wise addition inside DuckDB took 0.004750 seconds\n",
            "Sample result (all rows):\n",
            "[101, 100, 78, 120, 82, 128, 136, 57, 74, 109]\n",
            "[155, 144, 147, 93, 131, 35, 110, 117, 189, 54]\n",
            "[187, 118, 99, 39, 89, 119, 39, 169, 43, 188]\n"
          ]
        }
      ],
      "source": [
        "# Benchmarking: Element-wise addition using DuckDB\n",
        "start = time.time()\n",
        "\n",
        "result = con.execute(\"\"\"\n",
        "    SELECT list_apply(list_zip(A, B), x -> x[1] + x[2]) AS result\n",
        "    FROM matrix_table\n",
        "\"\"\").fetchall()\n",
        "\n",
        "end = time.time()\n",
        "\n",
        "print(f\"Element-wise addition inside DuckDB took {end - start:.6f} seconds\")\n",
        "print(\"Sample result (all rows):\")\n",
        "for row in result[:3]:\n",
        "    print(row[0])"
      ]
    },
    {
      "cell_type": "code",
      "execution_count": null,
      "metadata": {
        "colab": {
          "base_uri": "https://localhost:8080/"
        },
        "id": "b3ac4dea",
        "outputId": "a1d3c81a-b2c3-464e-83a9-a7e9fc1d419c"
      },
      "outputs": [
        {
          "output_type": "stream",
          "name": "stdout",
          "text": [
            "Element-wise multiplication inside DuckDB took 0.002184 seconds\n",
            "Sample result (all rows):\n",
            "[2530, 2059, 77, 3311, 456, 3975, 3724, 432, 213, 2838]\n",
            "[6000, 4700, 5372, 1610, 3298, 276, 1800, 3150, 8918, 704]\n",
            "[8736, 3456, 2444, 170, 1740, 3160, 270, 7008, 460, 8835]\n"
          ]
        }
      ],
      "source": [
        "# Benchmarking: Element-wise multiplication using DuckDB\n",
        "start = time.time()\n",
        "\n",
        "result = con.execute(\"\"\"\n",
        "    SELECT list_apply(list_zip(A, B), x -> x[1] * x[2]) AS result\n",
        "    FROM matrix_table\n",
        "\"\"\").fetchall()\n",
        "\n",
        "end = time.time()\n",
        "\n",
        "print(f\"Element-wise multiplication inside DuckDB took {end - start:.6f} seconds\")\n",
        "print(\"Sample result (all rows):\")\n",
        "for row in result[:3]:\n",
        "    print(row[0])"
      ]
    },
    {
      "cell_type": "code",
      "execution_count": null,
      "metadata": {
        "colab": {
          "base_uri": "https://localhost:8080/"
        },
        "id": "fd5d222d",
        "outputId": "184ae430-0f4f-42f0-aaa5-b58be5ea9b99"
      },
      "outputs": [
        {
          "output_type": "stream",
          "name": "stdout",
          "text": [
            "Dot product inside DuckDB took 0.004084 seconds\n",
            "Sample result (all rows):\n",
            "19615\n",
            "35828\n",
            "36279\n"
          ]
        }
      ],
      "source": [
        "# Benchmarking: Dot product using DuckDB\n",
        "start = time.time()\n",
        "\n",
        "result = con.execute(\"\"\"\n",
        "    SELECT list_sum(list_apply(list_zip(A, B), x -> x[1] * x[2])) AS dot_product\n",
        "    FROM matrix_table\n",
        "\"\"\").fetchall()\n",
        "\n",
        "end = time.time()\n",
        "\n",
        "print(f\"Dot product inside DuckDB took {end - start:.6f} seconds\")\n",
        "print(\"Sample result (all rows):\")\n",
        "for row in result[:3]:\n",
        "    print(row[0])"
      ]
    }
  ],
  "metadata": {
    "colab": {
      "provenance": []
    },
    "kernelspec": {
      "display_name": "Python 3",
      "name": "python3"
    },
    "language_info": {
      "name": "python"
    }
  },
  "nbformat": 4,
  "nbformat_minor": 0
}